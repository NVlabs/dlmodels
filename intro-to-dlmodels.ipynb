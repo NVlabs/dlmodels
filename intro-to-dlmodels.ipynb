{
 "cells": [
  {
   "cell_type": "code",
   "execution_count": 1,
   "metadata": {},
   "outputs": [
    {
     "name": "stdout",
     "output_type": "stream",
     "text": [
      "Populating the interactive namespace from numpy and matplotlib\n"
     ]
    }
   ],
   "source": [
    "%pylab inline\n",
    "import numpy as np\n",
    "import scipy as sc\n",
    "import scipy.ndimage as ndi\n",
    "import pylab as pl\n",
    "import matplotlib as mpl\n",
    "from IPython import display\n",
    "from itertools import islice\n",
    "rc(\"image\", cmap=\"gray\")\n",
    "import dlinputs as dli\n",
    "import dlmodels as dlm"
   ]
  },
  {
   "cell_type": "markdown",
   "metadata": {},
   "source": [
    "# Layers\n"
   ]
  },
  {
   "cell_type": "markdown",
   "metadata": {},
   "source": [
    "The `dlmodels` library contains some useful layer types:\n",
    "\n",
    "- Gpu - convert inputs to GPU if necessary\n",
    "- Img2Seq - convert an image to a sequence by concatenating along the width\n",
    "- ImgMaxSeq - convert an image to a sequence by max reduction along the width\n",
    "- ImgSumSeq - convert an image to a sequence by sum reduction along the width\n",
    "- Lstm1 - 1D LSTM (uni- or bidirectional)\n",
    "- Lstm1to0 - reduce to final state with 1D LSTM\n",
    "- Lstm2 - 2D LSTM\n",
    "- Lstm2to1 - reduce to sequence with LSTM\n",
    "- Permute - like tensor.permute\n",
    "- Reorder - reorder (e.g. Reorder(\"BDL\", \"BLD\"))\n",
    "\n",
    "Orders are consistently:\n",
    "\n",
    "- BD - vector inputs\n",
    "- BDL - sequence inputs (also for Lstm1)\n",
    "- BDHW - image inputs (also for Lstm2)"
   ]
  },
  {
   "cell_type": "markdown",
   "metadata": {},
   "source": [
    "# Specs\n",
    "\n",
    "The `dlmodels` library also contains a small library for compact specifications of deep networks. There is also a TensorFlow version of this library (https://github.com/tmbdev/tfspecs). In addition to a compact notation, `specs` also performs size inference."
   ]
  },
  {
   "cell_type": "code",
   "execution_count": 2,
   "metadata": {},
   "outputs": [
    {
     "data": {
      "text/plain": [
       "(17, 1, 28, 28) -> (17L, 10L)\n",
       "Sequence (\n",
       "  (0): Conv2d(1, 64, kernel_size=(3, 3), stride=(1, 1), padding=(1, 1), bias=False)\n",
       "  (1): BatchNorm2d(64, eps=1e-05, momentum=0.1, affine=True)\n",
       "  (2): ReLU ()\n",
       "  (3): MaxPool2d (size=(2, 2), stride=(2, 2), dilation=(1, 1))\n",
       "  (4): Conv2d(64, 64, kernel_size=(3, 3), stride=(1, 1), padding=(1, 1), bias=False)\n",
       "  (5): BatchNorm2d(64, eps=1e-05, momentum=0.1, affine=True)\n",
       "  (6): ReLU ()\n",
       "  (7): MaxPool2d (size=(2, 2), stride=(2, 2), dilation=(1, 1))\n",
       "  (8): Viewer (-1, 3136)\n",
       "  (9): Linear (3136 -> 100)\n",
       "  (10): BatchNorm1d(100, eps=1e-05, momentum=0.1, affine=True)\n",
       "  (11): ReLU ()\n",
       "  (12): Linear (100 -> 10)\n",
       ")"
      ]
     },
     "execution_count": 2,
     "metadata": {},
     "output_type": "execute_result"
    }
   ],
   "source": [
    "with dlm.specops:\n",
    "    template = (Cbr(64) | Mp(2))**2 | Flat() | Fbr(100) | Fl(10)\n",
    "model = template.create(17, 1, 28, 28)\n",
    "model"
   ]
  },
  {
   "cell_type": "markdown",
   "metadata": {},
   "source": [
    "# Loadable Models\n",
    "\n",
    "It is often useful to load models from external files. This can be done with `dlm.loadable.load_model`."
   ]
  }
 ],
 "metadata": {
  "kernelspec": {
   "display_name": "Python 2",
   "language": "python",
   "name": "python2"
  },
  "language_info": {
   "codemirror_mode": {
    "name": "ipython",
    "version": 2
   },
   "file_extension": ".py",
   "mimetype": "text/x-python",
   "name": "python",
   "nbconvert_exporter": "python",
   "pygments_lexer": "ipython2",
   "version": "2.7.12"
  }
 },
 "nbformat": 4,
 "nbformat_minor": 1
}
